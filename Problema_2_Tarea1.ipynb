{
 "cells": [
  {
   "cell_type": "markdown",
   "metadata": {},
   "source": [
    "# Código utilizado para resolver la sección b) del Problema 2 (Tarea 1)"
   ]
  },
  {
   "cell_type": "code",
   "execution_count": 1,
   "metadata": {
    "collapsed": false
   },
   "outputs": [
    {
     "name": "stdout",
     "output_type": "stream",
     "text": [
      "Populating the interactive namespace from numpy and matplotlib\n",
      "cantidad de veces que se observa X=18: 132\n"
     ]
    }
   ],
   "source": [
    "import numpy as np\n",
    "import matplotlib.mlab as mlab\n",
    "import matplotlib.pyplot as plt\n",
    "%pylab inline\n",
    "\n",
    "\n",
    "#Calculamos cuantas veces se observa X=18 si repetimos el experimento 1000 veces\n",
    "\n",
    "same=[]\n",
    "for i in range(1000):\n",
    "            x = np.random.random(33)\n",
    "            s=0\n",
    "            for n in range(33):\n",
    "                if x[n] < 0.5:\n",
    "                    s=s+1    \n",
    "            same.append(s)\n",
    "same = np.array(same)\n",
    "index = (same > 17) & (same < 19)\n",
    "same18 = same[index]\n",
    "    \n",
    "    \n",
    "print \"cantidad de veces que se observa X=18:\",len(same18)\n",
    "                \n",
    "\n",
    "\n"
   ]
  },
  {
   "cell_type": "code",
   "execution_count": 2,
   "metadata": {
    "collapsed": false
   },
   "outputs": [
    {
     "data": {
      "image/png": "[encoded data removed]",
      "text/plain": [
       "<matplotlib.figure.Figure at 0x1062e2510>"
      ]
     },
     "metadata": {},
     "output_type": "display_data"
    },
    {
     "name": "stdout",
     "output_type": "stream",
     "text": [
      "valor medio de la cantidad de veces que se observa X=18: 121.026666667\n",
      "es decir, P( X=18 | r=0.5 ) = 0.121026666667\n",
      "desviacion estandar 9.93273823721\n"
     ]
    }
   ],
   "source": [
    "import numpy as np\n",
    "import matplotlib.mlab as mlab\n",
    "import matplotlib.pyplot as plt\n",
    "\n",
    "#ahora repitamos el calculo del codigo anterior varias veces para tener una distribucion de la cantidad de veces que se observa X=18\n",
    "\n",
    "P_same18=[]\n",
    "for j in range (300):\n",
    "    same=[]\n",
    "    for i in range(1000):\n",
    "            x = np.random.random(33)\n",
    "            s=0\n",
    "            for n in range(33):\n",
    "                if x[n] < 0.5:\n",
    "                    s=s+1    \n",
    "            same.append(s)\n",
    "    same = np.array(same)\n",
    "    index = (same > 17) & (same < 19)\n",
    "    same18 = same[index]\n",
    "    P_same18.append(len(same18))\n",
    "    \n",
    "                \n",
    "x = np.array(P_same18)\n",
    "plt.hist(P_same18)\n",
    "plt.xlabel(\"Value\")\n",
    "plt.ylabel(\"Frequency\")\n",
    "plt.show()\n",
    "\n",
    "print \"valor medio de la cantidad de veces que se observa X=18:\", np.mean(P_same18)\n",
    "print \"es decir, P( X=18 | r=0.5 ) =\", np.mean(P_same18)/1000.\n",
    "print \"desviacion estandar\",np.std(P_same18)\n",
    "\n"
   ]
  },
  {
   "cell_type": "markdown",
   "metadata": {},
   "source": [
    "# Código utilizado para resolver las secciones c) y d) del Problema 2 (Tarea 1)"
   ]
  },
  {
   "cell_type": "code",
   "execution_count": 31,
   "metadata": {
    "collapsed": false
   },
   "outputs": [
    {
     "name": "stdout",
     "output_type": "stream",
     "text": [
      "Populating the interactive namespace from numpy and matplotlib\n",
      "Integral de P(r) en [0,1] = 0.99999\n"
     ]
    },
    {
     "data": {
      "image/png": "[encoded data removed]",
      "text/plain": [
       "<matplotlib.figure.Figure at 0x108180c90>"
      ]
     },
     "metadata": {},
     "output_type": "display_data"
    }
   ],
   "source": [
    "import matplotlib.pyplot as plt\n",
    "import numpy as np\n",
    "%pylab inline\n",
    "\n",
    "\n",
    "#Definimos P(r)~Uniforme(0,1) \n",
    "\n",
    "t = np.arange(0.00, 1.0000, 0.00001)\n",
    "s = np.zeros(len(t))+1.\n",
    "\n",
    "#Calculamos la integral de P(r) entre 0 y 1\n",
    "\n",
    "print 'Integral de P(r) en [0,1] =',np.trapz(s,t)\n",
    "\n",
    "#Graficamos la distribucion P(r)~Uniforme(0,1)\n",
    "\n",
    "plt.plot(t, s,linewidth=3)\n",
    "\n",
    "plt.xlim(-0.2, 1.2)  \n",
    "plt.ylim(-0.1, 1.2)\n",
    "\n",
    "plt.xlabel('$r$',size=16)\n",
    "plt.ylabel('$p(r)$',size=16)\n",
    "plt.title('$P(r)~Uniforme(0,1)$')\n",
    "plt.grid(True)\n",
    "\n",
    "plt.show()"
   ]
  },
  {
   "cell_type": "code",
   "execution_count": 32,
   "metadata": {
    "collapsed": false
   },
   "outputs": [
    {
     "name": "stdout",
     "output_type": "stream",
     "text": [
      "1037158320.0\n"
     ]
    }
   ],
   "source": [
    "#Tarea para calcular el coeficiente binomial/combinatoria (n,k)\n",
    "import scipy\n",
    "from scipy import special\n",
    "print scipy.special.binom(33,18)"
   ]
  },
  {
   "cell_type": "code",
   "execution_count": 33,
   "metadata": {
    "collapsed": true
   },
   "outputs": [],
   "source": [
    "#Calculemos el denominador de P(r|X)\n",
    "\n",
    "def h(x):\n",
    "    return (x**18)*((1-x)**15)\n",
    "\n",
    "t = np.arange(0.00, 1.0, 0.00001)\n",
    "s = h(t)"
   ]
  },
  {
   "cell_type": "code",
   "execution_count": 34,
   "metadata": {
    "collapsed": false
   },
   "outputs": [
    {
     "data": {
      "image/png": "[encoded data removed]",
      "text/plain": [
       "<matplotlib.figure.Figure at 0x1063d5d50>"
      ]
     },
     "metadata": {},
     "output_type": "display_data"
    }
   ],
   "source": [
    "#Graficamos P(18|r)\n",
    "plt.plot(t, s*scipy.special.binom(33,18),linewidth=3)\n",
    "\n",
    "plt.xlim(-0.2, 1.2)  \n",
    "#plt.ylim(-0.1, 1.2)\n",
    "\n",
    "plt.xlabel('$r$',size=16)\n",
    "plt.ylabel('$p(r)$',size=16)\n",
    "plt.title('$P(18|r)$')\n",
    "plt.grid(True)\n",
    "\n",
    "plt.show()"
   ]
  },
  {
   "cell_type": "code",
   "execution_count": 35,
   "metadata": {
    "collapsed": false
   },
   "outputs": [
    {
     "name": "stdout",
     "output_type": "stream",
     "text": [
      "Integral de P(18|r) en [0,1] = 0.0294117647059\n",
      "Integral de P(18|r) en [0,1] (dividido por el coef. binomial(33,18) ) = 2.83580280259e-11\n"
     ]
    }
   ],
   "source": [
    "#Calculamos la integral de P(18|r) entre 0 y 1\n",
    "print 'Integral de P(18|r) en [0,1] =',np.trapz(s,t)*scipy.special.binom(33,18)\n",
    "print 'Integral de P(18|r) en [0,1] (dividido por el coef. binomial(33,18) ) =',np.trapz(s,t)"
   ]
  },
  {
   "cell_type": "code",
   "execution_count": 36,
   "metadata": {
    "collapsed": false
   },
   "outputs": [],
   "source": [
    "#Definimos P(r|X) (P(r|18) en este caso)\n",
    "def p(x):\n",
    "    return ((x**18)*((1-x)**15))/(np.trapz(s,t))\n",
    "\n",
    "l = np.arange(0.00, 1.0, 0.00001)\n",
    "m = p(l)\n",
    "\n"
   ]
  },
  {
   "cell_type": "code",
   "execution_count": 37,
   "metadata": {
    "collapsed": false
   },
   "outputs": [
    {
     "data": {
      "image/png": "[encoded data removed]",
      "text/plain": [
       "<matplotlib.figure.Figure at 0x10653af50>"
      ]
     },
     "metadata": {},
     "output_type": "display_data"
    }
   ],
   "source": [
    "#Graficamos P(r|18)\n",
    "\n",
    "plt.plot(l, m,linewidth=3)\n",
    "\n",
    "\n",
    "plt.xlim(-0.2, 1.2)  \n",
    "#plt.ylim(-0.1, 1.2)\n",
    "\n",
    "plt.xlabel('$r$',size=16)\n",
    "plt.ylabel('$p(r)$',size=16)\n",
    "plt.title('$P(r|18)$')\n",
    "plt.grid(True)\n",
    "\n",
    "plt.show()"
   ]
  },
  {
   "cell_type": "code",
   "execution_count": 50,
   "metadata": {
    "collapsed": false
   },
   "outputs": [
    {
     "name": "stdout",
     "output_type": "stream",
     "text": [
      "maximum CDF = 1.0\n"
     ]
    },
    {
     "data": {
      "image/png": "[encoded data removed]",
      "text/plain": [
       "<matplotlib.figure.Figure at 0x1085b8b90>"
      ]
     },
     "metadata": {},
     "output_type": "display_data"
    }
   ],
   "source": [
    "#def int_p(x):\n",
    "#    ll = np.arange(0.00, x, 0.00001)\n",
    "#    mm = p(ll)\n",
    "#    return np.trapz(mm,ll)\n",
    "\n",
    "#l2 = np.arange(0.00, 1.0, 0.00001)\n",
    "#m2 = int_p(l2)\n",
    "\n",
    "l1 = np.arange(0.00, 1.0, 0.00001)\n",
    "m1 = p(l1)\n",
    "\n",
    "#Calculamos la CDF usando np.cumsum y dividiendo por el nro \n",
    "#de intervalos en los que dividimos al eje x en [0,1]\n",
    "\n",
    "mc=np.cumsum(m1)/(1/0.00001)\n",
    "\n",
    "plt.plot(l1, mc,linewidth=3)\n",
    "print 'maximum CDF =',max(mc)\n",
    "\n",
    "plt.xlim(-0.2, 1.2)  \n",
    "plt.ylim(0., 1.1)\n",
    "\n",
    "plt.xlabel('$r$',size=16)\n",
    "plt.ylabel('$p(r)$',size=16)\n",
    "plt.title('$CDF$')\n",
    "plt.grid(True)\n",
    "\n",
    "plt.show()"
   ]
  },
  {
   "cell_type": "code",
   "execution_count": 40,
   "metadata": {
    "collapsed": false
   },
   "outputs": [
    {
     "name": "stdout",
     "output_type": "stream",
     "text": [
      "Integral de P(r|X) en [0,1] = 1.0\n"
     ]
    }
   ],
   "source": [
    "print 'Integral de P(r|X) en [0,1] =',np.trapz(m,l)"
   ]
  },
  {
   "cell_type": "code",
   "execution_count": 11,
   "metadata": {
    "collapsed": false
   },
   "outputs": [
    {
     "name": "stdout",
     "output_type": "stream",
     "text": [
      "Probabilidad de que dado X=18, r>0.5 = 0.696202266752\n"
     ]
    }
   ],
   "source": [
    "#Calculamos P(r>0.5|X)\n",
    "\n",
    "k = np.arange(0.50, 1.00, 0.001)\n",
    "Ho = p(k)\n",
    "print 'Probabilidad de que dado X=18, r>0.5 =', np.trapz(Ho,k)"
   ]
  },
  {
   "cell_type": "code",
   "execution_count": 12,
   "metadata": {
    "collapsed": false
   },
   "outputs": [
    {
     "name": "stdout",
     "output_type": "stream",
     "text": [
      "Probabilidad de que dado X=18, r<0.5 = 0.299704948575\n"
     ]
    }
   ],
   "source": [
    "#Calculamos P(r<0.5|X)\n",
    "\n",
    "k = np.arange(0.00, 0.50, 0.001)\n",
    "Ho = p(k)\n",
    "print 'Probabilidad de que dado X=18, r<0.5 =', np.trapz(Ho,k)"
   ]
  },
  {
   "cell_type": "code",
   "execution_count": 21,
   "metadata": {
    "collapsed": false
   },
   "outputs": [
    {
     "name": "stdout",
     "output_type": "stream",
     "text": [
      "4 [ 0.545453  0.545454  0.545455  0.545456] [ 0.000968    0.00034165 -0.0002847  -0.00091105]\n"
     ]
    }
   ],
   "source": [
    "#Definimos la derivada de P(r|X) (dP(r|18)/dr en este caso) para calcular el maximo\n",
    "def dp(x):\n",
    "    return (18*(x**17)*((1-x)**15)-15*(x**18)*((1-x)**14))/(np.trapz(s,t))\n",
    "\n",
    "l = np.arange(0.30, 0.80, 0.000001)\n",
    "m = dp(l)\n",
    "\n",
    "filt= (m<0.001)&(m>-0.001)\n",
    "m_filt=m[filt]\n",
    "l_filt=l[filt]\n",
    "print len(l_filt), l_filt, m_filt"
   ]
  },
  {
   "cell_type": "code",
   "execution_count": 22,
   "metadata": {
    "collapsed": false
   },
   "outputs": [
    {
     "name": "stdout",
     "output_type": "stream",
     "text": [
      "0.995907215327\n"
     ]
    }
   ],
   "source": [
    "print 0.696202266752+0.299704948575\n"
   ]
  },
  {
   "cell_type": "code",
   "execution_count": null,
   "metadata": {
    "collapsed": true
   },
   "outputs": [],
   "source": []
  }
 ],
 "metadata": {
  "kernelspec": {
   "display_name": "Python 2",
   "language": "python",
   "name": "python2"
  },
  "language_info": {
   "codemirror_mode": {
    "name": "ipython",
    "version": 2
   },
   "file_extension": ".py",
   "mimetype": "text/x-python",
   "name": "python",
   "nbconvert_exporter": "python",
   "pygments_lexer": "ipython2",
   "version": "2.7.10"
  }
 },
 "nbformat": 4,
 "nbformat_minor": 0
}
