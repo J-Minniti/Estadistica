{
 "cells": [
  {
   "cell_type": "markdown",
   "metadata": {},
   "source": [
    "# Código utilizado para resolver la sección b) del Problema 2 (Tarea 1)"
   ]
  },
  {
   "cell_type": "code",
   "execution_count": 75,
   "metadata": {
    "collapsed": false
   },
   "outputs": [
    {
     "name": "stdout",
     "output_type": "stream",
     "text": [
      "cantidad de veces que se observa X=18:  118\n"
     ]
    }
   ],
   "source": [
    "import numpy as np\n",
    "import matplotlib.mlab as mlab\n",
    "import matplotlib.pyplot as plt\n",
    "\n",
    "#Calculamos cuantas veces se observa X=18 si repetimos el experimento 1000 veces\n",
    "\n",
    "same=[]\n",
    "for i in range(1000):\n",
    "            x = np.random.random(33)\n",
    "            s=0\n",
    "            for n in range(33):\n",
    "                if x[n] < 0.5:\n",
    "                    s=s+1    \n",
    "            same.append(s)\n",
    "same = np.array(same)\n",
    "index = (same > 17) & (same < 19)\n",
    "same18 = same[index]\n",
    "    \n",
    "    \n",
    "print \"cantidad de veces que se observa X=18:\",len(same18)\n",
    "                \n",
    "\n",
    "\n"
   ]
  },
  {
   "cell_type": "code",
   "execution_count": 78,
   "metadata": {
    "collapsed": false
   },
   "outputs": [
    {
     "name": "stdout",
     "output_type": "stream",
     "text": [
      "valor medio de la cantidad de veces que se observa X=18: 120.86\n",
      "es decir, P( X=18 | r=0.5 ) = 0.12086\n",
      "desviacion estandar 10.3585906377\n"
     ]
    }
   ],
   "source": [
    "import numpy as np\n",
    "import matplotlib.mlab as mlab\n",
    "import matplotlib.pyplot as plt\n",
    "\n",
    "#ahora repitamos el calculo del codigo anterior varias veces para tener una distribucion de la cantidad de veces que se observa X=18\n",
    "\n",
    "P_same18=[]\n",
    "for j in range (300):\n",
    "    same=[]\n",
    "    for i in range(1000):\n",
    "            x = np.random.random(33)\n",
    "            s=0\n",
    "            for n in range(33):\n",
    "                if x[n] < 0.5:\n",
    "                    s=s+1    \n",
    "            same.append(s)\n",
    "    same = np.array(same)\n",
    "    index = (same > 17) & (same < 19)\n",
    "    same18 = same[index]\n",
    "    P_same18.append(len(same18))\n",
    "    \n",
    "                \n",
    "x = np.array(P_same18)\n",
    "plt.hist(P_same18)\n",
    "plt.xlabel(\"Value\")\n",
    "plt.ylabel(\"Frequency\")\n",
    "plt.show()\n",
    "\n",
    "print \"valor medio de la cantidad de veces que se observa X=18:\", np.mean(P_same18)\n",
    "print \"es decir, P( X=18 | r=0.5 ) =\", np.mean(P_same18)/1000.\n",
    "print \"desviacion estandar\",np.std(P_same18)\n",
    "\n"
   ]
  },
  {
   "cell_type": "code",
   "execution_count": null,
   "metadata": {
    "collapsed": true
   },
   "outputs": [],
   "source": []
  }
 ],
 "metadata": {
  "kernelspec": {
   "display_name": "Python 2",
   "language": "python",
   "name": "python2"
  },
  "language_info": {
   "codemirror_mode": {
    "name": "ipython",
    "version": 2
   },
   "file_extension": ".py",
   "mimetype": "text/x-python",
   "name": "python",
   "nbconvert_exporter": "python",
   "pygments_lexer": "ipython2",
   "version": "2.7.10"
  }
 },
 "nbformat": 4,
 "nbformat_minor": 0
}
