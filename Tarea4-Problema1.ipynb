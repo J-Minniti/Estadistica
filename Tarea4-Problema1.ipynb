{
 "cells": [
  {
   "cell_type": "markdown",
   "metadata": {},
   "source": [
    "# Problema 1\n",
    "# a)\n",
    "Código para encontrar los parámetros de maximum likelihood:"
   ]
  },
  {
   "cell_type": "code",
   "execution_count": 2,
   "metadata": {
    "collapsed": true
   },
   "outputs": [],
   "source": [
    "%matplotlib inline\n",
    "\n",
    "import numpy as np\n",
    "from numpy import *\n",
    "import matplotlib.pylab as plt\n",
    "from matplotlib.pyplot import *\n",
    "import scipy.stats as sp\n",
    "\n",
    "with open('datos.dat') as g:\n",
    "    t,y,err = np.genfromtxt(g, usecols=(0,1,2), unpack=True, dtype=float)\n",
    "g.close()"
   ]
  },
  {
   "cell_type": "code",
   "execution_count": 85,
   "metadata": {
    "collapsed": false
   },
   "outputs": [
    {
     "name": "stdout",
     "output_type": "stream",
     "text": [
      "PARÁMETROS:\n",
      "\n",
      "δ = 0.000101 \n",
      "C_0 = 0.998870 \n",
      "C_1 = 0.012203 \n",
      "C_2 = -0.045056 \n",
      "C_3 = 0.074225 \n",
      "C_4 = -0.056351 \n",
      "C_5 = 0.016240\n"
     ]
    }
   ],
   "source": [
    "n=len(t)\n",
    "t1=0.4\n",
    "t4=0.7\n",
    "\n",
    "filt = (t1<t) & (t<t4)      \n",
    "\n",
    "col1 = np.zeros(n)\n",
    "for i in range(n):   \n",
    "    if filt[i] == True:\n",
    "        col1[i] = -1\n",
    "\n",
    "M = col1\n",
    "\n",
    "p=5    #Defino el grado del polinomio a ajustar\n",
    "\n",
    "#Armo la matriz de diseño:\n",
    "for i in range(p+1):\n",
    "    M = np.column_stack((M, t**i))\n",
    "\n",
    "B = np.linalg.inv(np.matmul(M.T,M))\n",
    "C = np.matmul(M.T,y)\n",
    "param = np.matmul(B,C)\n",
    "\n",
    "greek_char = unichr(0x3b4).encode('utf-8')\n",
    "\n",
    "# print u\"\\u03B4\"\n",
    "\n",
    "print 'PARÁMETROS:\\n'\n",
    "print greek_char,'= %8.6f'% (param[0]), '\\nC_0 = %8.6f \\nC_1 = %8.6f \\nC_2 = %8.6f \\nC_3 = %8.6f \\nC_4 = %8.6f \\nC_5 = %8.6f'% (param[1], param[2], param[3], param[4], param[5], param[6])"
   ]
  },
  {
   "cell_type": "markdown",
   "metadata": {},
   "source": [
    "# b)\n",
    "Graficamos el ajuste a los datos con los parámetros obtenidos anteriormente"
   ]
  },
  {
   "cell_type": "code",
   "execution_count": 104,
   "metadata": {
    "collapsed": false
   },
   "outputs": [
    {
     "data": {
      "image/png": "[encoded data removed]",
      "text/plain": [
       "<matplotlib.figure.Figure at 0x112ba02d0>"
      ]
     },
     "metadata": {},
     "output_type": "display_data"
    }
   ],
   "source": [
    "b = linspace(0.2, 0.4, 100, endpoint=False)\n",
    "a = linspace(0.8, 0.7, 100, endpoint=False)\n",
    "c = linspace(0.4, 0.7, 100)\n",
    "a = a[::-1]\n",
    "x = np.append(b,c)\n",
    "x = np.append(x,a)\n",
    "\n",
    "z = (param[6]*b**5 + param[5]*b**4 + param[4]*b**3 + param[3]*b**2 + param[2]*b + param[1])\n",
    "z1 = (param[6]*c**5 + param[5]*c**4 + param[4]*c**3 + param[3]*c**2 + param[2]*c + param[1])-param[0]\n",
    "z2 = (param[6]*a**5 + param[5]*a**4 + param[4]*a**3 + param[3]*a**2 + param[2]*a + param[1])\n",
    "z = np.append(z,z1)\n",
    "z = np.append(z,z2)\n",
    "\n",
    "\n",
    "plt.errorbar(t, y, err, fmt='o', color='blue')\n",
    "plt.plot(x, z, color='red', linewidth=3)\n",
    "plt.xlim(0.1, 0.9)\n",
    "plt.ylim(0.99965, 1.0002)\n",
    "\n",
    "plt.xlabel('Tiempo')\n",
    "plt.ylabel('Flujo normalizado')\n",
    "plt.savefig('plot_1.pdf')\n",
    "plt.show()"
   ]
  },
  {
   "cell_type": "markdown",
   "metadata": {},
   "source": [
    "# c)\n",
    "Hacemos ahora el test de chi-cuadrado"
   ]
  },
  {
   "cell_type": "code",
   "execution_count": 105,
   "metadata": {
    "collapsed": false
   },
   "outputs": [
    {
     "name": "stdout",
     "output_type": "stream",
     "text": [
      "324.015142784\n",
      "1.10585372964\n"
     ]
    }
   ],
   "source": [
    "K = (y) - np.matmul(M,param)\n",
    "err = np.array(err)\n",
    "err1 = err**2\n",
    "V = np.diag(err1)\n",
    "\n",
    "V1 = np.linalg.inv(V)\n",
    "\n",
    "chi=np.matmul(np.matmul(K.T,V1),K)\n",
    "print chi\n",
    "chi2_dof = (chi)/(len(y) - 7)\n",
    "print chi2_dof"
   ]
  },
  {
   "cell_type": "markdown",
   "metadata": {},
   "source": [
    "calculamos el p-value para el ajuste realizado"
   ]
  },
  {
   "cell_type": "code",
   "execution_count": 108,
   "metadata": {
    "collapsed": false
   },
   "outputs": [
    {
     "name": "stdout",
     "output_type": "stream",
     "text": [
      "1 - pvalue = 0.897230336869\n",
      "pvalue = 0.102769663131\n"
     ]
    }
   ],
   "source": [
    "from scipy.special import chdtr as Chi2CDF       #Chi square CDF. Returns the area under the left hand tail (from 0 to x) of the Chi square probability density function with v degrees of freedom\n",
    "from scipy.special import chdtrc as Chi2Survival #Chi square survival function. Returns the area under the right hand tail (from x to infinity) of the Chi square probability density function with v degrees of freedom\n",
    "\n",
    "print '1 - pvalue =',Chi2CDF(len(y)-7, chi)\n",
    "print 'pvalue =',Chi2Survival(len(y)-7, chi) "
   ]
  }
 ],
 "metadata": {
  "kernelspec": {
   "display_name": "Python 2",
   "language": "python",
   "name": "python2"
  },
  "language_info": {
   "codemirror_mode": {
    "name": "ipython",
    "version": 2
   },
   "file_extension": ".py",
   "mimetype": "text/x-python",
   "name": "python",
   "nbconvert_exporter": "python",
   "pygments_lexer": "ipython2",
   "version": "2.7.11"
  }
 },
 "nbformat": 4,
 "nbformat_minor": 0
}
