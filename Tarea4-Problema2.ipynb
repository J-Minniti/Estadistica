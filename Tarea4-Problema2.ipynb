{
 "cells": [
  {
   "cell_type": "markdown",
   "metadata": {},
   "source": [
    "# Problema 2\n",
    "# a)"
   ]
  },
  {
   "cell_type": "code",
   "execution_count": 4,
   "metadata": {
    "collapsed": true
   },
   "outputs": [],
   "source": [
    "%matplotlib inline\n",
    "\n",
    "import numpy as np\n",
    "from numpy import *\n",
    "import matplotlib.pylab as plt\n",
    "from matplotlib.pyplot import *\n",
    "import scipy.stats as sp\n",
    "\n",
    "with open('datos.dat') as g:\n",
    "    t,y,err = np.genfromtxt(g, usecols=(0,1,2), unpack=True, dtype=float)\n",
    "g.close()"
   ]
  },
  {
   "cell_type": "markdown",
   "metadata": {},
   "source": [
    "Obtenemos los parámetros del polinomio de orden 5 de la misma manera que fueron obtenidos en el Problema 1:"
   ]
  },
  {
   "cell_type": "code",
   "execution_count": 5,
   "metadata": {
    "collapsed": true
   },
   "outputs": [],
   "source": [
    "n=len(t)\n",
    "t1=0.4\n",
    "t4=0.7\n",
    "\n",
    "filt = (t1<t) & (t<t4)      \n",
    "\n",
    "col1 = np.zeros(n)\n",
    "for i in range(n):   \n",
    "    if filt[i] == True:\n",
    "        col1[i] = -1\n",
    "\n",
    "M = col1\n",
    "\n",
    "p=5    #Defino el grado del polinomio a ajustar\n",
    "\n",
    "#Armo la matriz de diseño:\n",
    "for i in range(p+1):\n",
    "    M = np.column_stack((M, t**i))\n",
    "\n",
    "B = np.linalg.inv(np.matmul(M.T,M))\n",
    "C = np.matmul(M.T,y)\n",
    "param = np.matmul(B,C)"
   ]
  },
  {
   "cell_type": "markdown",
   "metadata": {},
   "source": [
    "Utilizamos los parámetros del polinomio obtenidos anteriormente $C_0 ... C_5$ para simular varios sets de datos provenientes de este polinomio a los que les agregaremos ruido Gaussiano."
   ]
  },
  {
   "cell_type": "code",
   "execution_count": 34,
   "metadata": {
    "collapsed": false
   },
   "outputs": [
    {
     "data": {
      "image/png": "[encoded data removed]",
      "text/plain": [
       "<matplotlib.figure.Figure at 0x1119bb450>"
      ]
     },
     "metadata": {},
     "output_type": "display_data"
    }
   ],
   "source": [
    "from scipy.special import chdtr as Chi2CDF       #Chi square CDF. Returns the area under the left hand tail (from 0 to x) of the Chi square probability density function with v degrees of freedom\n",
    "from scipy.special import chdtrc as Chi2Survival #Chi square survival function. Returns the area under the right hand tail (from x to infinity) of the Chi square probability density function with v degrees of freedom\n",
    "\n",
    "param2 = param[1:]\n",
    "\n",
    "model1 = (param2[5]*t**5 + param2[4]*t**4 + param2[3]*t**3 + param2[2]*t**2 + param2[1]*t + param2[0])\n",
    "\n",
    "# Parámetros para generar números aleatorios con distribución Gaussiana\n",
    "L0 = 0\n",
    "dL = 30e-06\n",
    "\n",
    "L_obs1 = np.random.normal(L0, dL, n)\n",
    "\n",
    "del M\n",
    "\n",
    "col2 = np.zeros(n)\n",
    "col2 = col2+1.\n",
    "\n",
    "M = col2\n",
    "\n",
    "p=5    #Defino el grado del polinomio a ajustar\n",
    "\n",
    "#Armo la matriz de diseño:\n",
    "for i in range(p):\n",
    "    M = np.column_stack((M, t**(i+1)))\n",
    "    \n",
    "err1 = np.array(err)\n",
    "err1 = err1**2\n",
    "V = np.diag(err1)\n",
    "V1 = np.linalg.inv(V)\n",
    "\n",
    "T = model1 + L_obs1\n",
    "C = np.matmul(M.T,T)\n",
    "B = np.linalg.inv(np.matmul(M.T,M))\n",
    "paramnew = np.matmul(B,C)\n",
    "\n",
    "L = np.matmul(M,param2)\n",
    "K = T - L\n",
    "chi=np.matmul(np.matmul(K.T,V1),K)\n",
    "\n",
    "\n",
    "for i in range(10000):\n",
    "    L_obs1 = np.random.normal(L0, dL, n)\n",
    "    T = model1 + L_obs1\n",
    "    C = np.matmul(M.T,T)    \n",
    "    paramnew = np.matmul(B,C)\n",
    "    L = np.matmul(M,paramnew)\n",
    "    K = T - L\n",
    "    chi = np.append(chi, np.matmul(np.matmul(K.T,V1),K))    \n",
    "\n",
    "chi = chi[1:]\n",
    "\n",
    "CDF = Chi2CDF(len(y)-6, chi)\n",
    "Survival = Chi2Survival(len(y)-6, chi)\n",
    "\n",
    "plt.hist(Survival, bins=10, range=[0, 1], normed=1)#, cumulative=True)\n",
    "plt.axvline(Survival.mean(), color='r', linestyle='dashed', linewidth=3)\n",
    "plt.xlabel('$p-value$')\n",
    "plt.savefig('plot_2.pdf')"
   ]
  },
  {
   "cell_type": "markdown",
   "metadata": {},
   "source": [
    "Obtenemos una distribución $Uniforme(0,1)$ para los $p-values$"
   ]
  },
  {
   "cell_type": "markdown",
   "metadata": {},
   "source": [
    "# c)\n",
    "Ahora ajustemos polinomios de distintos órdenes a los datos obtenidos a partir del modelo del Problema 1 sin el tránsito:"
   ]
  },
  {
   "cell_type": "code",
   "execution_count": 60,
   "metadata": {
    "collapsed": false
   },
   "outputs": [
    {
     "data": {
      "image/png": "[encoded data removed]",
      "text/plain": [
       "<matplotlib.figure.Figure at 0x112e31610>"
      ]
     },
     "metadata": {},
     "output_type": "display_data"
    }
   ],
   "source": [
    "L_obs1 = np.random.normal(L0, dL, n)\n",
    "\n",
    "del M\n",
    "\n",
    "col2 = np.zeros(n)\n",
    "col2 = col2+1.\n",
    "\n",
    "M = col2\n",
    "\n",
    "p=3    #Defino el grado del polinomio a ajustar, probamos para p=3,1,12\n",
    "\n",
    "#Armo la matriz de diseño:\n",
    "for i in range(p):\n",
    "    M = np.column_stack((M, t**(i+1)))\n",
    "    \n",
    "\n",
    "err1 = np.array(err)\n",
    "err1 = err1**2\n",
    "\n",
    "#err1 = (1.388*err1)**2  #Si hago esto (agrando el error), entonces la distribución de los p-values cambia \n",
    "                         #cuando el modelo que ajusto es una recta. Agrandando el error consigo que mi \n",
    "                         #Hipótesis nula sea rechazada menos veces, es decir, en la distribución de los \n",
    "                         #p values aumentan los valores mayores a 0.5, de hecho si agrando demasiado los  \n",
    "                         #errores entonces no puedo rechazar nunca Ho.\n",
    "                \n",
    "V = np.diag(err1)\n",
    "V1 = np.linalg.inv(V)\n",
    "\n",
    "T = model1 + L_obs1\n",
    "C = np.matmul(M.T,T)\n",
    "B = np.linalg.inv(np.matmul(M.T,M))\n",
    "paramnew = np.matmul(B,C)\n",
    "\n",
    "L = np.matmul(M,paramnew)\n",
    "K = T - L\n",
    "chi=np.matmul(np.matmul(K.T,V1),K)\n",
    "\n",
    "\n",
    "for i in range(10000):\n",
    "    L_obs1 = np.random.normal(L0, dL, n)\n",
    "    T = model1 + L_obs1\n",
    "    C = np.matmul(M.T,T)    \n",
    "    paramnew = np.matmul(B,C)\n",
    "    L = np.matmul(M,paramnew)\n",
    "    K = T - L\n",
    "    chi = np.append(chi, np.matmul(np.matmul(K.T,V1),K))    \n",
    "\n",
    "chi = chi[1:]\n",
    "\n",
    "CDF = Chi2CDF(len(y)-6, chi)\n",
    "Survival = Chi2Survival(len(y)-6, chi)\n",
    "\n",
    "plt.hist(Survival, bins=50, range=[0, 1], normed=1)#, cumulative=True)\n",
    "plt.axvline(Survival.mean(), color='r', linestyle='dashed', linewidth=3)\n",
    "plt.xlabel('$p-value$')\n",
    "plt.savefig('plot_3.pdf')"
   ]
  },
  {
   "cell_type": "markdown",
   "metadata": {},
   "source": [
    "# d)\n",
    "Ahora ajustemos el modelo del Problema 1 CON el tránsito:\n",
    "\n",
    "Utilizamos los parámetros del modelo obtenido en el Problema 1 ($\\delta,\\,C_0,\\, ... ,\\,C_5$) para simular varios sets de datos provenientes de este modelo a los que les agregaremos ruido Gaussiano."
   ]
  },
  {
   "cell_type": "code",
   "execution_count": 53,
   "metadata": {
    "collapsed": false
   },
   "outputs": [
    {
     "data": {
      "image/png": "[encoded data removed]",
      "text/plain": [
       "<matplotlib.figure.Figure at 0x110c8f9d0>"
      ]
     },
     "metadata": {},
     "output_type": "display_data"
    }
   ],
   "source": [
    "filt1 = (0.1<t) & (t<0.4)\n",
    "filt2 = (0.4<=t) & (t<=0.7)\n",
    "filt3 = (0.7<t) & (t<1.0)\n",
    "\n",
    "a=t[filt1]\n",
    "b=t[filt2]\n",
    "c=t[filt3]\n",
    "\n",
    "z = (param[6]*a**5 + param[5]*a**4 + param[4]*a**3 + param[3]*a**2 + param[2]*a + param[1])\n",
    "z1 = (param[6]*b**5 + param[5]*b**4 + param[4]*b**3 + param[3]*b**2 + param[2]*b + param[1])-param[0]\n",
    "z2 = (param[6]*c**5 + param[5]*c**4 + param[4]*c**3 + param[3]*c**2 + param[2]*c + param[1])\n",
    "z = np.append(z,z1)\n",
    "z = np.append(z,z2)\n",
    "\n",
    "L0 = 0\n",
    "dL = 30e-06\n",
    "\n",
    "L_obs1 = np.random.normal(L0, dL, n)\n",
    "\n",
    "del M\n",
    "\n",
    "col1 = np.zeros(n)\n",
    "for i in range(n):   \n",
    "    if filt[i] == True:\n",
    "        col1[i] = -1\n",
    "\n",
    "M = col1\n",
    "\n",
    "p=5    #Defino el grado del polinomio a ajustar\n",
    "\n",
    "#Armo la matriz de diseño:\n",
    "for i in range(p+1):\n",
    "    M = np.column_stack((M, t**i))\n",
    "\n",
    "err1 = np.array(err)\n",
    "err1 = err1**2\n",
    "\n",
    "V = np.diag(err1)\n",
    "V1 = np.linalg.inv(V)\n",
    "\n",
    "T = z + L_obs1\n",
    "C = np.matmul(M.T,T)\n",
    "B = np.linalg.inv(np.matmul(M.T,M))\n",
    "paramnew = np.matmul(B,C)\n",
    "\n",
    "L = np.matmul(M,paramnew)\n",
    "K = T - L\n",
    "chi=np.matmul(np.matmul(K.T,V1),K)\n",
    "\n",
    "\n",
    "for i in range(10000):\n",
    "    L_obs1 = np.random.normal(L0, dL, n)\n",
    "    T = z + L_obs1\n",
    "    C = np.matmul(M.T,T)    \n",
    "    paramnew = np.matmul(B,C)\n",
    "    L = np.matmul(M,paramnew)\n",
    "    K = T - L\n",
    "    chi = np.append(chi, np.matmul(np.matmul(K.T,V1),K))    \n",
    "\n",
    "chi = chi[1:]\n",
    "\n",
    "CDF = Chi2CDF(len(y)-7, chi)\n",
    "Survival = Chi2Survival(len(y)-7, chi)\n",
    "\n",
    "plt.hist(Survival, bins=10, range=[0, 1], normed=1)#, cumulative=True)\n",
    "plt.axvline(Survival.mean(), color='r', linestyle='dashed', linewidth=3)\n",
    "plt.xlabel('$p-value$')\n",
    "plt.savefig('plot_6.pdf')"
   ]
  },
  {
   "cell_type": "code",
   "execution_count": null,
   "metadata": {
    "collapsed": true
   },
   "outputs": [],
   "source": []
  }
 ],
 "metadata": {
  "kernelspec": {
   "display_name": "Python 2",
   "language": "python",
   "name": "python2"
  },
  "language_info": {
   "codemirror_mode": {
    "name": "ipython",
    "version": 2
   },
   "file_extension": ".py",
   "mimetype": "text/x-python",
   "name": "python",
   "nbconvert_exporter": "python",
   "pygments_lexer": "ipython2",
   "version": "2.7.11"
  }
 },
 "nbformat": 4,
 "nbformat_minor": 0
}
